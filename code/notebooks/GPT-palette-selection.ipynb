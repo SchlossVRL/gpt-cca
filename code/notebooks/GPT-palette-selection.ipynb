{
 "cells": [
  {
   "cell_type": "code",
   "execution_count": 5,
   "metadata": {},
   "outputs": [],
   "source": [
    "#### importing some libraries\n",
    "\n",
    "import numpy as np\n",
    "import pandas as pd\n",
    "import matplotlib.pyplot as plt\n",
    "import seaborn as sns\n",
    "from scipy.optimize import linear_sum_assignment\n",
    "from scipy.stats import norm\n",
    "import warnings\n",
    "import itertools\n",
    "import matplotlib.colors as mcolors\n",
    "warnings.filterwarnings('ignore')\n",
    "\n",
    "import matplotlib.pyplot as plt\n",
    "import matplotlib.patches as patches\n"
   ]
  },
  {
   "cell_type": "code",
   "execution_count": 67,
   "metadata": {},
   "outputs": [],
   "source": [
    "### functions to compute delta S\n",
    "\n",
    "def sig_est(mean):\n",
    "  \"\"\"\n",
    "  estimate standard deviation using the mean rating\n",
    "  for a color-concept pair\n",
    "  \"\"\"\n",
    "  return np.maximum(1.4 * mean * (1-mean), .1)\n",
    "\n",
    "def compute_semantic_distance(x1, x2, x3, x4):\n",
    "    \"\"\"\n",
    "    get semantic distance between a set of color concept\n",
    "    association ratings.\n",
    "    x1, x2, x3, and x4 are the ratings for four colors as\n",
    "    described in https://schlosslab.discovery.wisc.edu/wp-content/uploads/2021/08/SchlossLeggonLessard2021.pdf\n",
    "\n",
    "\n",
    "        concept1                concept2\n",
    "          |\\                       /|\n",
    "          | \\                     / |\n",
    "       x1 |  \\ x2             x3 /  | x4\n",
    "          |   \\                 /   |\n",
    "          |    \\               /    |\n",
    "        color1  color2    color1  color2\n",
    "    \"\"\"\n",
    "    num = (x1 + x4) - (x2 + x3)\n",
    "\n",
    "    denom = np.sqrt(sig_est(x1)**2 + sig_est(x2)**2 + sig_est(x3)**2 + sig_est(x4)**2)\n",
    "\n",
    "    p_dx_gt_zero = norm.cdf(num / denom)\n",
    "    p_dx_lt_zero = 1 - p_dx_gt_zero\n",
    "    semdist = np.absolute(p_dx_gt_zero - p_dx_lt_zero)\n",
    "\n",
    "    return semdist\n",
    "\n",
    "\n",
    "\n",
    "### this function gets all the delta S values for a pair of concepts\n",
    "def get_all_semdists(concept1, concept2):\n",
    "    \"\"\"\n",
    "    compute semantic distances between all color pairs for a concept\n",
    "    concept1 & concept2 are color-concept association\n",
    "    vectors for two concepts\n",
    "    \"\"\"\n",
    "    dists = []\n",
    "    pairs = []\n",
    "\n",
    "    for color1 in range(concept1.shape[0]):\n",
    "        for color2 in range(color1):\n",
    "            x1, x2 = concept1[color1], concept1[color2]\n",
    "            x3, x4 = concept2[color1], concept2[color2]\n",
    "            #semdists[color1][color2] = get_semdist(x1, x2, x3, x4)\n",
    "            if np.any(np.isnan([x1,x2,x3,x4])):\n",
    "              continue\n",
    "            dists.append(compute_semantic_distance(x1, x2, x3, x4))\n",
    "            pairs.append(tuple([color1,color2]))\n",
    "\n",
    "\n",
    "    return dists, pairs\n",
    "\n",
    "\n",
    "\n",
    "def compute_total_variation(vec1, vec2):\n",
    "  \"\"\"\n",
    "  compute total variation distance between two vectors\n",
    "  \"\"\"\n",
    "  return np.sum(np.abs(vec1-vec2))\n",
    "\n",
    "\n",
    "\n",
    "def assignment_solve( ratings, method=\"balanced\"):\n",
    "    \"\"\"\n",
    "    Input is a m x n array of (concepts) x (colors) filled with association ratings\n",
    "    Output is a list of length m with the index of the color that should be associated with each concept\n",
    "    \"\"\"\n",
    "    m,n = ratings.shape\n",
    "    assert m <= n, \"More concepts than colors, assignment impossible!\"\n",
    "\n",
    "    # isolated merit function (only considers target in isolation)\n",
    "    if method == \"isolated\":\n",
    "        merit_matrix = ratings\n",
    "\n",
    "    # balanced merit function (balances ratings of target vs off-target objects with each color)\n",
    "    elif method == \"balanced\":\n",
    "        t = 1  # this is the penalty parameter. t=1 for balanced, t=0 recovers isolated case.\n",
    "        merit_matrix = np.zeros((m,n))\n",
    "        for i in range(m):\n",
    "            for j in range(n):\n",
    "                merit_matrix[i,j] = ratings[i,j] - t*ratings[np.arange(m)!=i,j].max()\n",
    "\n",
    "\n",
    "\n",
    "    # baseline merit function (uniformly bad assignment)\n",
    "    elif method == \"baseline\":\n",
    "        merit_matrix = np.zeros((m,n))\n",
    "        for i in range(m):\n",
    "            for j in range(n):\n",
    "                merit_matrix[i,j] = -abs( ratings[i,j] - ratings[np.arange(m)!=i,j].max() )\n",
    "\n",
    "    else:\n",
    "        assert False, \"unknown method in assignment problem\"\n",
    "\n",
    "    row_ind, col_ind = linear_sum_assignment( merit_matrix, maximize=True )\n",
    "    return col_ind\n",
    "\n",
    "\n",
    "\n",
    "def visualize_color_patches(hex_colors, concept_names):\n",
    "    fig, ax = plt.subplots(1, len(hex_colors), figsize=(len(hex_colors) * 2, 2), facecolor=(143/255, 143/255, 143/255))\n",
    "    \n",
    "    if len(hex_colors) == 1:\n",
    "        ax = [ax]\n",
    "    \n",
    "    for i, color in enumerate(hex_colors):\n",
    "        ax[i].add_patch(patches.Rectangle((0, 0), 1, 1, color=color))\n",
    "        ax[i].set_xlim(0, 1)\n",
    "        ax[i].set_ylim(0, 1)\n",
    "        ax[i].axis('off')\n",
    "        ax[i].set_title(concept_names[i], fontsize=10)\n",
    "        ax[i].set_facecolor((143/255, 143/255, 143/255))\n",
    "    \n",
    "    plt.show()\n",
    "\n",
    "\n",
    "def make_ratings_mat(grouped_ratings_df):\n",
    "    \n",
    "    mat = np.zeros((len(np.unique(grouped_ratings_df.prompt)),71))\n",
    "    for i,con in enumerate(np.unique(grouped_ratings_df.prompt)):\n",
    "        ds = grouped_ratings_df[grouped_ratings_df.prompt==con]\n",
    "        mat[i,:] = ds.iloc[:,3].values\n",
    "\n",
    "\n",
    "    mat = pd.DataFrame(mat, index =np.unique(grouped_ratings_df.prompt), columns = np.arange(mat.shape[1]) )\n",
    "    cmeans = mat.mean().values\n",
    "    return mat, cmeans\n",
    "\n",
    "\n"
   ]
  },
  {
   "cell_type": "code",
   "execution_count": 68,
   "metadata": {},
   "outputs": [],
   "source": [
    "color_dict = pd.read_csv('https://raw.githubusercontent.com/kushinm/cc-assoc-ratings/main/UW71coordinates_long.csv')\n",
    "p1 = ['corn','carrot','grape','banana']\n",
    "p2 =['sleeping','driving','peach','cherry']\n",
    "p3 = ['working','leisure','safety','comfort']\n",
    "p4 = ['eggplant','celery','efficiency','speed']\n",
    "p5= ['working','leisure','grape','banana']\n",
    "p6 = ['eggplant','celery','peach','cherry']\n",
    "p7 = ['corn','carrot','safety','comfort']\n",
    "p8 = ['sleeping','driving','efficiency','speed']\n",
    "\n",
    "\n",
    "p9 = ['corn','carrot','peach','cherry']\n",
    "p10 = ['sleeping','driving','grape','banana']\n",
    "p11 = ['working','leisure','efficiency','speed']\n",
    "p12 = ['eggplant','celery','safety','comfort']\n",
    "p13 = ['working','leisure','peach','cherry']\n",
    "p14 = ['eggplant','celery','grape','banana']\n",
    "p15 = ['corn','carrot','efficiency','speed',]\n",
    "p16 = ['sleeping','driving','safety','comfort']\n",
    "plist=[p1,p2,p3,p4,p5,p6,p7,p8,p9,p10,p11,p12,p13,p14,p15,p16]\n"
   ]
  },
  {
   "cell_type": "code",
   "execution_count": 69,
   "metadata": {},
   "outputs": [],
   "source": [
    "### load human ratings and average ratings\n",
    "\n",
    "set_1_raw = pd.read_csv('../../data/uw71_set1_redo_raw.csv')\n",
    "set_2_raw = pd.read_csv('../../data/uw71_set2_raw.csv')\n",
    "set_3_raw = pd.read_csv('../../data/uw71_set3_raw.csv')\n",
    "set1_grouped = set_1_raw.groupby(['concept','prompt','color_index']).response.agg(mean_rating = 'mean', se ='sem').reset_index()\n",
    "set2_grouped = set_2_raw.groupby(['concept','prompt','color_index']).response.agg(mean_rating = 'mean', se ='sem').reset_index()\n",
    "set3_grouped = set_3_raw.groupby(['concept','prompt','color_index']).response.agg(mean_rating = 'mean', se ='sem').reset_index()\n",
    "\n",
    "ratings1,ratings_cmeans1= make_ratings_mat(set1_grouped)\n",
    "ratings2,ratings_cmeans2= make_ratings_mat(set2_grouped)\n",
    "ratings3,ratings_cmeans3= make_ratings_mat(set3_grouped)\n",
    "\n",
    "concept_list = set1_grouped.pivot(index=['prompt','concept'], columns='color_index', values='mean_rating').reset_index().sort_values(by=['concept','prompt']).reset_index(drop=True)['prompt'].values\n",
    "concept_list.sort()\n",
    "concept_order  = {concept: i for i, concept in enumerate(concept_list)}\n",
    "\n",
    "### vertically stack the ratings matrices\n",
    "ratings_human = pd.concat([ratings1,ratings2,ratings3])\n",
    "ratings_human['concept'] = ratings_human.index\n",
    "ratings_human = ratings_human.reset_index(drop=True)\n",
    "\n",
    "\n"
   ]
  },
  {
   "cell_type": "code",
   "execution_count": null,
   "metadata": {},
   "outputs": [],
   "source": []
  },
  {
   "cell_type": "code",
   "execution_count": 70,
   "metadata": {},
   "outputs": [],
   "source": [
    "gpt_assoc_hex_images = pd.read_csv('../../data/all_stim_hex_plus_patch.csv', index_col=0)\n",
    "gpt_assoc_hex_images = gpt_assoc_hex_images.pivot(index='concept', columns='color_index', values='response').rename_axis(None, axis=1).reset_index()"
   ]
  },
  {
   "cell_type": "code",
   "execution_count": 71,
   "metadata": {},
   "outputs": [],
   "source": [
    "ratings_human = ratings_human[ratings_human['concept'].isin(set_3_raw.prompt.unique())].reset_index(drop=True)\n",
    "gpt_assoc_hex_images = gpt_assoc_hex_images[gpt_assoc_hex_images['concept'].isin(set_3_raw.prompt.unique())].reset_index(drop=True)"
   ]
  },
  {
   "cell_type": "code",
   "execution_count": 76,
   "metadata": {},
   "outputs": [
    {
     "name": "stdout",
     "output_type": "stream",
     "text": [
      "['corn', 'carrot', 'grape', 'banana']\n",
      "Optimal color assignment for concept set 1:\n",
      "['#ffffff', '#cc4f1b', '#600b84', '#c8e97d']\n"
     ]
    },
    {
     "data": {
      "image/png": "[encoded data removed]",
      "text/plain": [
       "<Figure size 800x200 with 4 Axes>"
      ]
     },
     "metadata": {},
     "output_type": "display_data"
    },
    {
     "name": "stdout",
     "output_type": "stream",
     "text": [
      "\n",
      "['sleeping', 'driving', 'peach', 'cherry']\n",
      "Optimal color assignment for concept set 2:\n",
      "['#512d5f', '#3efe44', '#f1a78a', '#ea1d1d']\n"
     ]
    },
    {
     "data": {
      "image/png": "[encoded data removed]",
      "text/plain": [
       "<Figure size 800x200 with 4 Axes>"
      ]
     },
     "metadata": {},
     "output_type": "display_data"
    },
    {
     "name": "stdout",
     "output_type": "stream",
     "text": [
      "\n",
      "['working', 'leisure', 'safety', 'comfort']\n",
      "Optimal color assignment for concept set 3:\n",
      "['#000000', '#8558f4', '#dddddd', '#a06776']\n"
     ]
    },
    {
     "data": {
      "image/png": "[encoded data removed]",
      "text/plain": [
       "<Figure size 800x200 with 4 Axes>"
      ]
     },
     "metadata": {},
     "output_type": "display_data"
    },
    {
     "name": "stdout",
     "output_type": "stream",
     "text": [
      "\n",
      "['eggplant', 'celery', 'efficiency', 'speed']\n",
      "Optimal color assignment for concept set 4:\n",
      "['#600b84', '#0e8a19', '#5e78a1', '#ea1d1d']\n"
     ]
    },
    {
     "data": {
      "image/png": "[encoded data removed]",
      "text/plain": [
       "<Figure size 800x200 with 4 Axes>"
      ]
     },
     "metadata": {},
     "output_type": "display_data"
    },
    {
     "name": "stdout",
     "output_type": "stream",
     "text": [
      "\n",
      "['working', 'leisure', 'grape', 'banana']\n",
      "Optimal color assignment for concept set 5:\n",
      "['#3b3b3b', '#a0bae6', '#600b84', '#fcdb42']\n"
     ]
    },
    {
     "data": {
      "image/png": "[encoded data removed]",
      "text/plain": [
       "<Figure size 800x200 with 4 Axes>"
      ]
     },
     "metadata": {},
     "output_type": "display_data"
    },
    {
     "name": "stdout",
     "output_type": "stream",
     "text": [
      "\n",
      "['eggplant', 'celery', 'peach', 'cherry']\n",
      "Optimal color assignment for concept set 6:\n",
      "['#600b84', '#73cf10', '#f7a75a', '#ea1d1d']\n"
     ]
    },
    {
     "data": {
      "image/png": "[encoded data removed]",
      "text/plain": [
       "<Figure size 800x200 with 4 Axes>"
      ]
     },
     "metadata": {},
     "output_type": "display_data"
    },
    {
     "name": "stdout",
     "output_type": "stream",
     "text": [
      "\n",
      "['corn', 'carrot', 'safety', 'comfort']\n",
      "Optimal color assignment for concept set 7:\n",
      "['#fcdb42', '#cc4f1b', '#8cf47e', '#a06776']\n"
     ]
    },
    {
     "data": {
      "image/png": "[encoded data removed]",
      "text/plain": [
       "<Figure size 800x200 with 4 Axes>"
      ]
     },
     "metadata": {},
     "output_type": "display_data"
    },
    {
     "name": "stdout",
     "output_type": "stream",
     "text": [
      "\n",
      "['sleeping', 'driving', 'efficiency', 'speed']\n",
      "Optimal color assignment for concept set 8:\n",
      "['#512d5f', '#0e8a19', '#ffffff', '#e81a4b']\n"
     ]
    },
    {
     "data": {
      "image/png": "[encoded data removed]",
      "text/plain": [
       "<Figure size 800x200 with 4 Axes>"
      ]
     },
     "metadata": {},
     "output_type": "display_data"
    },
    {
     "name": "stdout",
     "output_type": "stream",
     "text": [
      "\n",
      "['corn', 'carrot', 'peach', 'cherry']\n",
      "Optimal color assignment for concept set 9:\n",
      "['#d5b811', '#ac6619', '#f1a78a', '#ea1d1d']\n"
     ]
    },
    {
     "data": {
      "image/png": "[encoded data removed]",
      "text/plain": [
       "<Figure size 800x200 with 4 Axes>"
      ]
     },
     "metadata": {},
     "output_type": "display_data"
    },
    {
     "name": "stdout",
     "output_type": "stream",
     "text": [
      "\n",
      "['sleeping', 'driving', 'grape', 'banana']\n",
      "Optimal color assignment for concept set 10:\n",
      "['#1c3d61', '#ea1d1d', '#b62ef2', '#d0b85a']\n"
     ]
    },
    {
     "data": {
      "image/png": "[encoded data removed]",
      "text/plain": [
       "<Figure size 800x200 with 4 Axes>"
      ]
     },
     "metadata": {},
     "output_type": "display_data"
    },
    {
     "name": "stdout",
     "output_type": "stream",
     "text": [
      "\n",
      "['working', 'leisure', 'efficiency', 'speed']\n",
      "Optimal color assignment for concept set 11:\n",
      "['#3b3b3b', '#90689f', '#ffffff', '#ea1d1d']\n"
     ]
    },
    {
     "data": {
      "image/png": "[encoded data removed]",
      "text/plain": [
       "<Figure size 800x200 with 4 Axes>"
      ]
     },
     "metadata": {},
     "output_type": "display_data"
    },
    {
     "name": "stdout",
     "output_type": "stream",
     "text": [
      "\n",
      "['eggplant', 'celery', 'safety', 'comfort']\n",
      "Optimal color assignment for concept set 12:\n",
      "['#600b84', '#0e8a19', '#d0e942', '#a06776']\n"
     ]
    },
    {
     "data": {
      "image/png": "[encoded data removed]",
      "text/plain": [
       "<Figure size 800x200 with 4 Axes>"
      ]
     },
     "metadata": {},
     "output_type": "display_data"
    },
    {
     "name": "stdout",
     "output_type": "stream",
     "text": [
      "\n",
      "['working', 'leisure', 'peach', 'cherry']\n",
      "Optimal color assignment for concept set 13:\n",
      "['#3b3b3b', '#d5a9e4', '#f1a78a', '#ea1d1d']\n"
     ]
    },
    {
     "data": {
      "image/png": "[encoded data removed]",
      "text/plain": [
       "<Figure size 800x200 with 4 Axes>"
      ]
     },
     "metadata": {},
     "output_type": "display_data"
    },
    {
     "name": "stdout",
     "output_type": "stream",
     "text": [
      "\n",
      "['eggplant', 'celery', 'grape', 'banana']\n",
      "Optimal color assignment for concept set 14:\n",
      "['#000000', '#8cf47e', '#c94e4b', '#fcdb42']\n"
     ]
    },
    {
     "data": {
      "image/png": "[encoded data removed]",
      "text/plain": [
       "<Figure size 800x200 with 4 Axes>"
      ]
     },
     "metadata": {},
     "output_type": "display_data"
    },
    {
     "name": "stdout",
     "output_type": "stream",
     "text": [
      "\n",
      "['corn', 'carrot', 'efficiency', 'speed']\n",
      "Optimal color assignment for concept set 15:\n",
      "['#fcdb42', '#ac6619', '#5e78a1', '#ea1d1d']\n"
     ]
    },
    {
     "data": {
      "image/png": "[encoded data removed]",
      "text/plain": [
       "<Figure size 800x200 with 4 Axes>"
      ]
     },
     "metadata": {},
     "output_type": "display_data"
    },
    {
     "name": "stdout",
     "output_type": "stream",
     "text": [
      "\n",
      "['sleeping', 'driving', 'safety', 'comfort']\n",
      "Optimal color assignment for concept set 16:\n",
      "['#512d5f', '#ea1d1d', '#d0e942', '#a06776']\n"
     ]
    },
    {
     "data": {
      "image/png": "[encoded data removed]",
      "text/plain": [
       "<Figure size 800x200 with 4 Axes>"
      ]
     },
     "metadata": {},
     "output_type": "display_data"
    },
    {
     "name": "stdout",
     "output_type": "stream",
     "text": [
      "\n"
     ]
    }
   ],
   "source": [
    "true_assignments = []\n",
    "for i in range(len(plist)):\n",
    "    concepts = plist[i]\n",
    "    print(concepts)\n",
    "    subset = ratings_human[ratings_human['concept'].isin(concepts)]\n",
    "\n",
    "     # Sort the subset DataFrame by the 'concept' column following the order in 'concepts'\n",
    "    subset['concept'] = pd.Categorical(subset['concept'], categories=concepts, ordered=True)\n",
    "    subset = subset.sort_values('concept')\n",
    "    \n",
    "    ratings = subset.drop('concept', axis=1).values\n",
    "    color_assignment = assignment_solve(ratings, method='balanced')\n",
    "    selected_colors = color_dict.iloc[color_assignment]['color_hex'].tolist()\n",
    "    \n",
    "    print('Optimal color assignment for concept set {}:'.format(i+1))\n",
    "    print(selected_colors)\n",
    "    visualize_color_patches(selected_colors, concepts)\n",
    "    \n",
    "    print('')\n",
    "    assignment_dict = {concept: color for concept, color in zip(concepts, selected_colors)}\n",
    "    true_assignments.append(assignment_dict)"
   ]
  },
  {
   "cell_type": "code",
   "execution_count": 77,
   "metadata": {},
   "outputs": [
    {
     "name": "stdout",
     "output_type": "stream",
     "text": [
      "Optimal color assignment for concept set 1:\n",
      "['#c7b88b', '#cc4f1b', '#600b84', '#d0e942']\n"
     ]
    },
    {
     "data": {
      "image/png": "[encoded data removed]",
      "text/plain": [
       "<Figure size 800x200 with 4 Axes>"
      ]
     },
     "metadata": {},
     "output_type": "display_data"
    },
    {
     "name": "stdout",
     "output_type": "stream",
     "text": [
      "\n",
      "Optimal color assignment for concept set 2:\n",
      "['#000000', '#d5b811', '#f7a75a', '#e81a4b']\n"
     ]
    },
    {
     "data": {
      "image/png": "[encoded data removed]",
      "text/plain": [
       "<Figure size 800x200 with 4 Axes>"
      ]
     },
     "metadata": {},
     "output_type": "display_data"
    },
    {
     "name": "stdout",
     "output_type": "stream",
     "text": [
      "\n",
      "Optimal color assignment for concept set 3:\n",
      "['#777777', '#cd26c7', '#73cf10', '#632b14']\n"
     ]
    },
    {
     "data": {
      "image/png": "[encoded data removed]",
      "text/plain": [
       "<Figure size 800x200 with 4 Axes>"
      ]
     },
     "metadata": {},
     "output_type": "display_data"
    },
    {
     "name": "stdout",
     "output_type": "stream",
     "text": [
      "\n",
      "Optimal color assignment for concept set 4:\n",
      "['#72005e', '#608218', '#b9b9b9', '#ea1d1d']\n"
     ]
    },
    {
     "data": {
      "image/png": "[encoded data removed]",
      "text/plain": [
       "<Figure size 800x200 with 4 Axes>"
      ]
     },
     "metadata": {},
     "output_type": "display_data"
    },
    {
     "name": "stdout",
     "output_type": "stream",
     "text": [
      "\n",
      "Optimal color assignment for concept set 5:\n",
      "['#777777', '#4bcf8e', '#512d5f', '#d5b811']\n"
     ]
    },
    {
     "data": {
      "image/png": "[encoded data removed]",
      "text/plain": [
       "<Figure size 800x200 with 4 Axes>"
      ]
     },
     "metadata": {},
     "output_type": "display_data"
    },
    {
     "name": "stdout",
     "output_type": "stream",
     "text": [
      "\n",
      "Optimal color assignment for concept set 6:\n",
      "['#3518ad', '#aac510', '#f7a75a', '#ea1d1d']\n"
     ]
    },
    {
     "data": {
      "image/png": "[encoded data removed]",
      "text/plain": [
       "<Figure size 800x200 with 4 Axes>"
      ]
     },
     "metadata": {},
     "output_type": "display_data"
    },
    {
     "name": "stdout",
     "output_type": "stream",
     "text": [
      "\n",
      "Optimal color assignment for concept set 7:\n",
      "['#d5b811', '#cc4f1b', '#73cf10', '#632b14']\n"
     ]
    },
    {
     "data": {
      "image/png": "[encoded data removed]",
      "text/plain": [
       "<Figure size 800x200 with 4 Axes>"
      ]
     },
     "metadata": {},
     "output_type": "display_data"
    },
    {
     "name": "stdout",
     "output_type": "stream",
     "text": [
      "\n",
      "Optimal color assignment for concept set 8:\n",
      "['#000000', '#d5b811', '#67cf5c', '#c94e4b']\n"
     ]
    },
    {
     "data": {
      "image/png": "[encoded data removed]",
      "text/plain": [
       "<Figure size 800x200 with 4 Axes>"
      ]
     },
     "metadata": {},
     "output_type": "display_data"
    },
    {
     "name": "stdout",
     "output_type": "stream",
     "text": [
      "\n",
      "Optimal color assignment for concept set 9:\n",
      "['#d5b811', '#cc4f1b', '#f1a78a', '#e81a4b']\n"
     ]
    },
    {
     "data": {
      "image/png": "[encoded data removed]",
      "text/plain": [
       "<Figure size 800x200 with 4 Axes>"
      ]
     },
     "metadata": {},
     "output_type": "display_data"
    },
    {
     "name": "stdout",
     "output_type": "stream",
     "text": [
      "\n",
      "Optimal color assignment for concept set 10:\n",
      "['#000000', '#ea1d1d', '#72005e', '#f7db7c']\n"
     ]
    },
    {
     "data": {
      "image/png": "[encoded data removed]",
      "text/plain": [
       "<Figure size 800x200 with 4 Axes>"
      ]
     },
     "metadata": {},
     "output_type": "display_data"
    },
    {
     "name": "stdout",
     "output_type": "stream",
     "text": [
      "\n",
      "Optimal color assignment for concept set 11:\n",
      "['#632b14', '#cd26c7', '#1c3d61', '#ea1d1d']\n"
     ]
    },
    {
     "data": {
      "image/png": "[encoded data removed]",
      "text/plain": [
       "<Figure size 800x200 with 4 Axes>"
      ]
     },
     "metadata": {},
     "output_type": "display_data"
    },
    {
     "name": "stdout",
     "output_type": "stream",
     "text": [
      "\n",
      "Optimal color assignment for concept set 12:\n",
      "['#600b84', '#a3c55b', '#d5b811', '#632b14']\n"
     ]
    },
    {
     "data": {
      "image/png": "[encoded data removed]",
      "text/plain": [
       "<Figure size 800x200 with 4 Axes>"
      ]
     },
     "metadata": {},
     "output_type": "display_data"
    },
    {
     "name": "stdout",
     "output_type": "stream",
     "text": [
      "\n",
      "Optimal color assignment for concept set 13:\n",
      "['#777777', '#4bcf8e', '#f1a78a', '#ea1d1d']\n"
     ]
    },
    {
     "data": {
      "image/png": "[encoded data removed]",
      "text/plain": [
       "<Figure size 800x200 with 4 Axes>"
      ]
     },
     "metadata": {},
     "output_type": "display_data"
    },
    {
     "name": "stdout",
     "output_type": "stream",
     "text": [
      "\n",
      "Optimal color assignment for concept set 14:\n",
      "['#512d5f', '#96c58c', '#cd26c7', '#d5b811']\n"
     ]
    },
    {
     "data": {
      "image/png": "[encoded data removed]",
      "text/plain": [
       "<Figure size 800x200 with 4 Axes>"
      ]
     },
     "metadata": {},
     "output_type": "display_data"
    },
    {
     "name": "stdout",
     "output_type": "stream",
     "text": [
      "\n",
      "Optimal color assignment for concept set 15:\n",
      "['#d5b811', '#ac6619', '#73f5b0', '#ea1d1d']\n"
     ]
    },
    {
     "data": {
      "image/png": "[encoded data removed]",
      "text/plain": [
       "<Figure size 800x200 with 4 Axes>"
      ]
     },
     "metadata": {},
     "output_type": "display_data"
    },
    {
     "name": "stdout",
     "output_type": "stream",
     "text": [
      "\n",
      "Optimal color assignment for concept set 16:\n",
      "['#000000', '#ea1d1d', '#d0e942', '#632b14']\n"
     ]
    },
    {
     "data": {
      "image/png": "[encoded data removed]",
      "text/plain": [
       "<Figure size 800x200 with 4 Axes>"
      ]
     },
     "metadata": {},
     "output_type": "display_data"
    },
    {
     "name": "stdout",
     "output_type": "stream",
     "text": [
      "\n"
     ]
    }
   ],
   "source": [
    "gpt_assignments = []\n",
    "for i in range(len(plist)):\n",
    "    concepts = plist[i]\n",
    "    subset = gpt_assoc_hex_images[gpt_assoc_hex_images['concept'].isin(concepts)]\n",
    "    \n",
    "    subset['concept'] = pd.Categorical(subset['concept'], categories=concepts, ordered=True)\n",
    "    subset = subset.sort_values('concept')\n",
    "\n",
    "    ratings = subset.drop('concept', axis=1).values\n",
    "    color_assignment = assignment_solve(ratings, method='balanced')\n",
    "    selected_colors = color_dict.iloc[color_assignment]['color_hex'].tolist()\n",
    "    \n",
    "    print('Optimal color assignment for concept set {}:'.format(i+1))\n",
    "    print(selected_colors)\n",
    "    visualize_color_patches(selected_colors, concepts)\n",
    "    print('')\n",
    "    assignment_dict = {concept: color for concept, color in zip(concepts, selected_colors)}\n",
    "    gpt_assignments.append(assignment_dict)\n"
   ]
  },
  {
   "cell_type": "code",
   "execution_count": null,
   "metadata": {},
   "outputs": [],
   "source": []
  },
  {
   "cell_type": "code",
   "execution_count": 78,
   "metadata": {},
   "outputs": [
    {
     "data": {
      "text/plain": [
       "[{'corn': '#ffffff',\n",
       "  'carrot': '#cc4f1b',\n",
       "  'grape': '#600b84',\n",
       "  'banana': '#c8e97d'},\n",
       " {'sleeping': '#512d5f',\n",
       "  'driving': '#3efe44',\n",
       "  'peach': '#f1a78a',\n",
       "  'cherry': '#ea1d1d'},\n",
       " {'working': '#000000',\n",
       "  'leisure': '#8558f4',\n",
       "  'safety': '#dddddd',\n",
       "  'comfort': '#a06776'},\n",
       " {'eggplant': '#600b84',\n",
       "  'celery': '#0e8a19',\n",
       "  'efficiency': '#5e78a1',\n",
       "  'speed': '#ea1d1d'},\n",
       " {'working': '#3b3b3b',\n",
       "  'leisure': '#a0bae6',\n",
       "  'grape': '#600b84',\n",
       "  'banana': '#fcdb42'},\n",
       " {'eggplant': '#600b84',\n",
       "  'celery': '#73cf10',\n",
       "  'peach': '#f7a75a',\n",
       "  'cherry': '#ea1d1d'},\n",
       " {'corn': '#fcdb42',\n",
       "  'carrot': '#cc4f1b',\n",
       "  'safety': '#8cf47e',\n",
       "  'comfort': '#a06776'},\n",
       " {'sleeping': '#512d5f',\n",
       "  'driving': '#0e8a19',\n",
       "  'efficiency': '#ffffff',\n",
       "  'speed': '#e81a4b'},\n",
       " {'corn': '#d5b811',\n",
       "  'carrot': '#ac6619',\n",
       "  'peach': '#f1a78a',\n",
       "  'cherry': '#ea1d1d'},\n",
       " {'sleeping': '#1c3d61',\n",
       "  'driving': '#ea1d1d',\n",
       "  'grape': '#b62ef2',\n",
       "  'banana': '#d0b85a'},\n",
       " {'working': '#3b3b3b',\n",
       "  'leisure': '#90689f',\n",
       "  'efficiency': '#ffffff',\n",
       "  'speed': '#ea1d1d'},\n",
       " {'eggplant': '#600b84',\n",
       "  'celery': '#0e8a19',\n",
       "  'safety': '#d0e942',\n",
       "  'comfort': '#a06776'},\n",
       " {'working': '#3b3b3b',\n",
       "  'leisure': '#d5a9e4',\n",
       "  'peach': '#f1a78a',\n",
       "  'cherry': '#ea1d1d'},\n",
       " {'eggplant': '#000000',\n",
       "  'celery': '#8cf47e',\n",
       "  'grape': '#c94e4b',\n",
       "  'banana': '#fcdb42'},\n",
       " {'corn': '#fcdb42',\n",
       "  'carrot': '#ac6619',\n",
       "  'efficiency': '#5e78a1',\n",
       "  'speed': '#ea1d1d'},\n",
       " {'sleeping': '#512d5f',\n",
       "  'driving': '#ea1d1d',\n",
       "  'safety': '#d0e942',\n",
       "  'comfort': '#a06776'}]"
      ]
     },
     "execution_count": 78,
     "metadata": {},
     "output_type": "execute_result"
    }
   ],
   "source": [
    "true_assignments"
   ]
  },
  {
   "cell_type": "code",
   "execution_count": 87,
   "metadata": {},
   "outputs": [
    {
     "data": {
      "text/plain": [
       "{'0': {'corn': '#c7b88b',\n",
       "  'carrot': '#cc4f1b',\n",
       "  'grape': '#600b84',\n",
       "  'banana': '#d0e942'},\n",
       " '1': {'sleeping': '#000000',\n",
       "  'driving': '#d5b811',\n",
       "  'peach': '#f7a75a',\n",
       "  'cherry': '#e81a4b'},\n",
       " '2': {'working': '#777777',\n",
       "  'leisure': '#cd26c7',\n",
       "  'safety': '#73cf10',\n",
       "  'comfort': '#632b14'},\n",
       " '3': {'eggplant': '#72005e',\n",
       "  'celery': '#608218',\n",
       "  'efficiency': '#b9b9b9',\n",
       "  'speed': '#ea1d1d'},\n",
       " '4': {'working': '#777777',\n",
       "  'leisure': '#4bcf8e',\n",
       "  'grape': '#512d5f',\n",
       "  'banana': '#d5b811'},\n",
       " '5': {'eggplant': '#3518ad',\n",
       "  'celery': '#aac510',\n",
       "  'peach': '#f7a75a',\n",
       "  'cherry': '#ea1d1d'},\n",
       " '6': {'corn': '#d5b811',\n",
       "  'carrot': '#cc4f1b',\n",
       "  'safety': '#73cf10',\n",
       "  'comfort': '#632b14'},\n",
       " '7': {'sleeping': '#000000',\n",
       "  'driving': '#d5b811',\n",
       "  'efficiency': '#67cf5c',\n",
       "  'speed': '#c94e4b'},\n",
       " '8': {'corn': '#d5b811',\n",
       "  'carrot': '#cc4f1b',\n",
       "  'peach': '#f1a78a',\n",
       "  'cherry': '#e81a4b'},\n",
       " '9': {'sleeping': '#000000',\n",
       "  'driving': '#ea1d1d',\n",
       "  'grape': '#72005e',\n",
       "  'banana': '#f7db7c'},\n",
       " '10': {'working': '#632b14',\n",
       "  'leisure': '#cd26c7',\n",
       "  'efficiency': '#1c3d61',\n",
       "  'speed': '#ea1d1d'},\n",
       " '11': {'eggplant': '#600b84',\n",
       "  'celery': '#a3c55b',\n",
       "  'safety': '#d5b811',\n",
       "  'comfort': '#632b14'},\n",
       " '12': {'working': '#777777',\n",
       "  'leisure': '#4bcf8e',\n",
       "  'peach': '#f1a78a',\n",
       "  'cherry': '#ea1d1d'},\n",
       " '13': {'eggplant': '#512d5f',\n",
       "  'celery': '#96c58c',\n",
       "  'grape': '#cd26c7',\n",
       "  'banana': '#d5b811'},\n",
       " '14': {'corn': '#d5b811',\n",
       "  'carrot': '#ac6619',\n",
       "  'efficiency': '#73f5b0',\n",
       "  'speed': '#ea1d1d'},\n",
       " '15': {'sleeping': '#000000',\n",
       "  'driving': '#ea1d1d',\n",
       "  'safety': '#d0e942',\n",
       "  'comfort': '#632b14'}}"
      ]
     },
     "execution_count": 87,
     "metadata": {},
     "output_type": "execute_result"
    }
   ],
   "source": [
    "\n",
    "\n",
    "{f\"{ind}\":val for ind,val in enumerate(gpt_assignments)}"
   ]
  },
  {
   "cell_type": "markdown",
   "metadata": {},
   "source": [
    "### Check data"
   ]
  },
  {
   "cell_type": "markdown",
   "metadata": {},
   "source": []
  },
  {
   "cell_type": "code",
   "execution_count": 148,
   "metadata": {},
   "outputs": [],
   "source": [
    "### read in all the .csv files in data/assignment_inference_data\n",
    "import os\n",
    "import pandas as pd\n",
    "import numpy as np\n",
    "\n",
    "path = '../../data/assignment_inference_data'\n",
    "files = os.listdir(path)\n",
    "ai_df = pd.DataFrame()\n",
    "for file in files:\n",
    "    if file.endswith('.csv'):\n",
    "        df = pd.read_csv(os.path.join(path, file))\n",
    "        df['file'] = file\n",
    "        ai_df = pd.concat([ai_df, df])"
   ]
  },
  {
   "cell_type": "code",
   "execution_count": 149,
   "metadata": {},
   "outputs": [
    {
     "data": {
      "text/plain": [
       "42"
      ]
     },
     "execution_count": 149,
     "metadata": {},
     "output_type": "execute_result"
    }
   ],
   "source": [
    "ai_df.sona_id.nunique()"
   ]
  },
  {
   "cell_type": "code",
   "execution_count": 150,
   "metadata": {},
   "outputs": [],
   "source": [
    "ai_trials = ai_df[ai_df['trial_type'] == 'assignment-inference']\n",
    "ai_trials = ai_trials[~ai_trials['category'].isin(['\"catch_trial\"','\"practice_trial\"'])].reset_index(drop=True)"
   ]
  },
  {
   "cell_type": "code",
   "execution_count": 151,
   "metadata": {},
   "outputs": [
    {
     "data": {
      "text/plain": [
       "category\n",
       "\"10\"    1.630814\n",
       "\"11\"    3.546512\n",
       "\"12\"    3.348837\n",
       "\"13\"    3.468023\n",
       "\"14\"    3.575581\n",
       "\"15\"    3.404070\n",
       "\"8\"     3.953488\n",
       "\"9\"     3.863372\n",
       "Name: total accuracy, dtype: float64"
      ]
     },
     "execution_count": 151,
     "metadata": {},
     "output_type": "execute_result"
    }
   ],
   "source": [
    "ai_trials.groupby('category')['total accuracy'].mean()"
   ]
  },
  {
   "cell_type": "code",
   "execution_count": 152,
   "metadata": {},
   "outputs": [
    {
     "data": {
      "text/html": [
       "<div>\n",
       "<style scoped>\n",
       "    .dataframe tbody tr th:only-of-type {\n",
       "        vertical-align: middle;\n",
       "    }\n",
       "\n",
       "    .dataframe tbody tr th {\n",
       "        vertical-align: top;\n",
       "    }\n",
       "\n",
       "    .dataframe thead th {\n",
       "        text-align: right;\n",
       "    }\n",
       "</style>\n",
       "<table border=\"1\" class=\"dataframe\">\n",
       "  <thead>\n",
       "    <tr style=\"text-align: right;\">\n",
       "      <th></th>\n",
       "      <th>rt</th>\n",
       "      <th>stimulus</th>\n",
       "      <th>button_pressed</th>\n",
       "      <th>trial_type</th>\n",
       "      <th>trial_index</th>\n",
       "      <th>time_elapsed</th>\n",
       "      <th>internal_node_id</th>\n",
       "      <th>subject_id</th>\n",
       "      <th>sona_id</th>\n",
       "      <th>success</th>\n",
       "      <th>...</th>\n",
       "      <th>answer_key</th>\n",
       "      <th>label_responses</th>\n",
       "      <th>condition</th>\n",
       "      <th>repetition</th>\n",
       "      <th>category</th>\n",
       "      <th>pal_source</th>\n",
       "      <th>accuracies</th>\n",
       "      <th>total accuracy</th>\n",
       "      <th>order_num</th>\n",
       "      <th>file</th>\n",
       "    </tr>\n",
       "  </thead>\n",
       "  <tbody>\n",
       "    <tr>\n",
       "      <th>0</th>\n",
       "      <td>12340.0</td>\n",
       "      <td>NaN</td>\n",
       "      <td>NaN</td>\n",
       "      <td>assignment-inference</td>\n",
       "      <td>11</td>\n",
       "      <td>67393</td>\n",
       "      <td>0.0-11.0</td>\n",
       "      <td>pv8mjorbc3</td>\n",
       "      <td>88441</td>\n",
       "      <td>NaN</td>\n",
       "      <td>...</td>\n",
       "      <td>[\"working\",\"leisure\",\"peach\",\"cherry\"]</td>\n",
       "      <td>[\"working\",\"leisure\",\"peach\",\"cherry\"]</td>\n",
       "      <td>\"set1\"</td>\n",
       "      <td>0.0</td>\n",
       "      <td>\"12\"</td>\n",
       "      <td>\"uw_71\"</td>\n",
       "      <td>[1,1,1,1]</td>\n",
       "      <td>4.0</td>\n",
       "      <td>4.0</td>\n",
       "      <td>pv8mjorbc3.csv</td>\n",
       "    </tr>\n",
       "    <tr>\n",
       "      <th>1</th>\n",
       "      <td>18232.0</td>\n",
       "      <td>NaN</td>\n",
       "      <td>NaN</td>\n",
       "      <td>assignment-inference</td>\n",
       "      <td>12</td>\n",
       "      <td>85627</td>\n",
       "      <td>0.0-12.0</td>\n",
       "      <td>pv8mjorbc3</td>\n",
       "      <td>88441</td>\n",
       "      <td>NaN</td>\n",
       "      <td>...</td>\n",
       "      <td>[\"working\",\"leisure\",\"efficiency\",\"speed\"]</td>\n",
       "      <td>[\"working\",\"efficiency\",\"leisure\",\"speed\"]</td>\n",
       "      <td>\"set1\"</td>\n",
       "      <td>0.0</td>\n",
       "      <td>\"10\"</td>\n",
       "      <td>\"uw_71\"</td>\n",
       "      <td>[1,0,0,1]</td>\n",
       "      <td>2.0</td>\n",
       "      <td>4.0</td>\n",
       "      <td>pv8mjorbc3.csv</td>\n",
       "    </tr>\n",
       "    <tr>\n",
       "      <th>2</th>\n",
       "      <td>12265.0</td>\n",
       "      <td>NaN</td>\n",
       "      <td>NaN</td>\n",
       "      <td>assignment-inference</td>\n",
       "      <td>13</td>\n",
       "      <td>97893</td>\n",
       "      <td>0.0-13.0</td>\n",
       "      <td>pv8mjorbc3</td>\n",
       "      <td>88441</td>\n",
       "      <td>NaN</td>\n",
       "      <td>...</td>\n",
       "      <td>[\"corn\",\"carrot\",\"efficiency\",\"speed\"]</td>\n",
       "      <td>[\"corn\",\"carrot\",\"speed\",\"efficiency\"]</td>\n",
       "      <td>\"set1\"</td>\n",
       "      <td>0.0</td>\n",
       "      <td>\"14\"</td>\n",
       "      <td>\"uw_71\"</td>\n",
       "      <td>[1,1,0,0]</td>\n",
       "      <td>2.0</td>\n",
       "      <td>4.0</td>\n",
       "      <td>pv8mjorbc3.csv</td>\n",
       "    </tr>\n",
       "    <tr>\n",
       "      <th>3</th>\n",
       "      <td>13394.0</td>\n",
       "      <td>NaN</td>\n",
       "      <td>NaN</td>\n",
       "      <td>assignment-inference</td>\n",
       "      <td>14</td>\n",
       "      <td>111288</td>\n",
       "      <td>0.0-14.0</td>\n",
       "      <td>pv8mjorbc3</td>\n",
       "      <td>88441</td>\n",
       "      <td>NaN</td>\n",
       "      <td>...</td>\n",
       "      <td>[\"corn\",\"carrot\",\"peach\",\"cherry\"]</td>\n",
       "      <td>[\"corn\",\"carrot\",\"peach\",\"cherry\"]</td>\n",
       "      <td>\"set1\"</td>\n",
       "      <td>0.0</td>\n",
       "      <td>\"8\"</td>\n",
       "      <td>\"uw_71\"</td>\n",
       "      <td>[1,1,1,1]</td>\n",
       "      <td>4.0</td>\n",
       "      <td>4.0</td>\n",
       "      <td>pv8mjorbc3.csv</td>\n",
       "    </tr>\n",
       "    <tr>\n",
       "      <th>4</th>\n",
       "      <td>14018.0</td>\n",
       "      <td>NaN</td>\n",
       "      <td>NaN</td>\n",
       "      <td>assignment-inference</td>\n",
       "      <td>15</td>\n",
       "      <td>125308</td>\n",
       "      <td>0.0-15.0</td>\n",
       "      <td>pv8mjorbc3</td>\n",
       "      <td>88441</td>\n",
       "      <td>NaN</td>\n",
       "      <td>...</td>\n",
       "      <td>[\"eggplant\",\"celery\",\"safety\",\"comfort\"]</td>\n",
       "      <td>[\"comfort\",\"celery\",\"eggplant\",\"safety\"]</td>\n",
       "      <td>\"set1\"</td>\n",
       "      <td>0.0</td>\n",
       "      <td>\"11\"</td>\n",
       "      <td>\"uw_71\"</td>\n",
       "      <td>[0,1,0,0]</td>\n",
       "      <td>1.0</td>\n",
       "      <td>4.0</td>\n",
       "      <td>pv8mjorbc3.csv</td>\n",
       "    </tr>\n",
       "    <tr>\n",
       "      <th>...</th>\n",
       "      <td>...</td>\n",
       "      <td>...</td>\n",
       "      <td>...</td>\n",
       "      <td>...</td>\n",
       "      <td>...</td>\n",
       "      <td>...</td>\n",
       "      <td>...</td>\n",
       "      <td>...</td>\n",
       "      <td>...</td>\n",
       "      <td>...</td>\n",
       "      <td>...</td>\n",
       "      <td>...</td>\n",
       "      <td>...</td>\n",
       "      <td>...</td>\n",
       "      <td>...</td>\n",
       "      <td>...</td>\n",
       "      <td>...</td>\n",
       "      <td>...</td>\n",
       "      <td>...</td>\n",
       "      <td>...</td>\n",
       "      <td>...</td>\n",
       "    </tr>\n",
       "    <tr>\n",
       "      <th>2747</th>\n",
       "      <td>9037.0</td>\n",
       "      <td>NaN</td>\n",
       "      <td>NaN</td>\n",
       "      <td>assignment-inference</td>\n",
       "      <td>85</td>\n",
       "      <td>717008</td>\n",
       "      <td>0.0-85.0</td>\n",
       "      <td>1xxsddld4c</td>\n",
       "      <td>88329</td>\n",
       "      <td>NaN</td>\n",
       "      <td>...</td>\n",
       "      <td>[\"corn\",\"carrot\",\"peach\",\"cherry\"]</td>\n",
       "      <td>[\"corn\",\"carrot\",\"peach\",\"cherry\"]</td>\n",
       "      <td>\"set1\"</td>\n",
       "      <td>7.0</td>\n",
       "      <td>\"8\"</td>\n",
       "      <td>\"uw_71\"</td>\n",
       "      <td>[1,1,1,1]</td>\n",
       "      <td>4.0</td>\n",
       "      <td>4.0</td>\n",
       "      <td>1xxsddld4c.csv</td>\n",
       "    </tr>\n",
       "    <tr>\n",
       "      <th>2748</th>\n",
       "      <td>8677.0</td>\n",
       "      <td>NaN</td>\n",
       "      <td>NaN</td>\n",
       "      <td>assignment-inference</td>\n",
       "      <td>86</td>\n",
       "      <td>725687</td>\n",
       "      <td>0.0-86.0</td>\n",
       "      <td>1xxsddld4c</td>\n",
       "      <td>88329</td>\n",
       "      <td>NaN</td>\n",
       "      <td>...</td>\n",
       "      <td>[\"working\",\"leisure\",\"peach\",\"cherry\"]</td>\n",
       "      <td>[\"working\",\"leisure\",\"peach\",\"cherry\"]</td>\n",
       "      <td>\"set1\"</td>\n",
       "      <td>7.0</td>\n",
       "      <td>\"12\"</td>\n",
       "      <td>\"uw_71\"</td>\n",
       "      <td>[1,1,1,1]</td>\n",
       "      <td>4.0</td>\n",
       "      <td>4.0</td>\n",
       "      <td>1xxsddld4c.csv</td>\n",
       "    </tr>\n",
       "    <tr>\n",
       "      <th>2749</th>\n",
       "      <td>8460.0</td>\n",
       "      <td>NaN</td>\n",
       "      <td>NaN</td>\n",
       "      <td>assignment-inference</td>\n",
       "      <td>87</td>\n",
       "      <td>734150</td>\n",
       "      <td>0.0-87.0</td>\n",
       "      <td>1xxsddld4c</td>\n",
       "      <td>88329</td>\n",
       "      <td>NaN</td>\n",
       "      <td>...</td>\n",
       "      <td>[\"eggplant\",\"celery\",\"grape\",\"banana\"]</td>\n",
       "      <td>[\"eggplant\",\"celery\",\"grape\",\"banana\"]</td>\n",
       "      <td>\"set1\"</td>\n",
       "      <td>7.0</td>\n",
       "      <td>\"13\"</td>\n",
       "      <td>\"uw_71\"</td>\n",
       "      <td>[1,1,1,1]</td>\n",
       "      <td>4.0</td>\n",
       "      <td>4.0</td>\n",
       "      <td>1xxsddld4c.csv</td>\n",
       "    </tr>\n",
       "    <tr>\n",
       "      <th>2750</th>\n",
       "      <td>10308.0</td>\n",
       "      <td>NaN</td>\n",
       "      <td>NaN</td>\n",
       "      <td>assignment-inference</td>\n",
       "      <td>88</td>\n",
       "      <td>744460</td>\n",
       "      <td>0.0-88.0</td>\n",
       "      <td>1xxsddld4c</td>\n",
       "      <td>88329</td>\n",
       "      <td>NaN</td>\n",
       "      <td>...</td>\n",
       "      <td>[\"sleeping\",\"driving\",\"safety\",\"comfort\"]</td>\n",
       "      <td>[\"sleeping\",\"driving\",\"safety\",\"comfort\"]</td>\n",
       "      <td>\"set1\"</td>\n",
       "      <td>7.0</td>\n",
       "      <td>\"15\"</td>\n",
       "      <td>\"uw_71\"</td>\n",
       "      <td>[1,1,1,1]</td>\n",
       "      <td>4.0</td>\n",
       "      <td>4.0</td>\n",
       "      <td>1xxsddld4c.csv</td>\n",
       "    </tr>\n",
       "    <tr>\n",
       "      <th>2751</th>\n",
       "      <td>7942.0</td>\n",
       "      <td>NaN</td>\n",
       "      <td>NaN</td>\n",
       "      <td>assignment-inference</td>\n",
       "      <td>89</td>\n",
       "      <td>752405</td>\n",
       "      <td>0.0-89.0</td>\n",
       "      <td>1xxsddld4c</td>\n",
       "      <td>88329</td>\n",
       "      <td>NaN</td>\n",
       "      <td>...</td>\n",
       "      <td>[\"sleeping\",\"driving\",\"grape\",\"banana\"]</td>\n",
       "      <td>[\"sleeping\",\"driving\",\"grape\",\"banana\"]</td>\n",
       "      <td>\"set1\"</td>\n",
       "      <td>7.0</td>\n",
       "      <td>\"9\"</td>\n",
       "      <td>\"uw_71\"</td>\n",
       "      <td>[1,1,1,1]</td>\n",
       "      <td>4.0</td>\n",
       "      <td>4.0</td>\n",
       "      <td>1xxsddld4c.csv</td>\n",
       "    </tr>\n",
       "  </tbody>\n",
       "</table>\n",
       "<p>2752 rows × 26 columns</p>\n",
       "</div>"
      ],
      "text/plain": [
       "           rt stimulus  button_pressed            trial_type  trial_index  \\\n",
       "0     12340.0      NaN             NaN  assignment-inference           11   \n",
       "1     18232.0      NaN             NaN  assignment-inference           12   \n",
       "2     12265.0      NaN             NaN  assignment-inference           13   \n",
       "3     13394.0      NaN             NaN  assignment-inference           14   \n",
       "4     14018.0      NaN             NaN  assignment-inference           15   \n",
       "...       ...      ...             ...                   ...          ...   \n",
       "2747   9037.0      NaN             NaN  assignment-inference           85   \n",
       "2748   8677.0      NaN             NaN  assignment-inference           86   \n",
       "2749   8460.0      NaN             NaN  assignment-inference           87   \n",
       "2750  10308.0      NaN             NaN  assignment-inference           88   \n",
       "2751   7942.0      NaN             NaN  assignment-inference           89   \n",
       "\n",
       "      time_elapsed internal_node_id  subject_id  sona_id success  ...  \\\n",
       "0            67393         0.0-11.0  pv8mjorbc3    88441     NaN  ...   \n",
       "1            85627         0.0-12.0  pv8mjorbc3    88441     NaN  ...   \n",
       "2            97893         0.0-13.0  pv8mjorbc3    88441     NaN  ...   \n",
       "3           111288         0.0-14.0  pv8mjorbc3    88441     NaN  ...   \n",
       "4           125308         0.0-15.0  pv8mjorbc3    88441     NaN  ...   \n",
       "...            ...              ...         ...      ...     ...  ...   \n",
       "2747        717008         0.0-85.0  1xxsddld4c    88329     NaN  ...   \n",
       "2748        725687         0.0-86.0  1xxsddld4c    88329     NaN  ...   \n",
       "2749        734150         0.0-87.0  1xxsddld4c    88329     NaN  ...   \n",
       "2750        744460         0.0-88.0  1xxsddld4c    88329     NaN  ...   \n",
       "2751        752405         0.0-89.0  1xxsddld4c    88329     NaN  ...   \n",
       "\n",
       "                                      answer_key  \\\n",
       "0         [\"working\",\"leisure\",\"peach\",\"cherry\"]   \n",
       "1     [\"working\",\"leisure\",\"efficiency\",\"speed\"]   \n",
       "2         [\"corn\",\"carrot\",\"efficiency\",\"speed\"]   \n",
       "3             [\"corn\",\"carrot\",\"peach\",\"cherry\"]   \n",
       "4       [\"eggplant\",\"celery\",\"safety\",\"comfort\"]   \n",
       "...                                          ...   \n",
       "2747          [\"corn\",\"carrot\",\"peach\",\"cherry\"]   \n",
       "2748      [\"working\",\"leisure\",\"peach\",\"cherry\"]   \n",
       "2749      [\"eggplant\",\"celery\",\"grape\",\"banana\"]   \n",
       "2750   [\"sleeping\",\"driving\",\"safety\",\"comfort\"]   \n",
       "2751     [\"sleeping\",\"driving\",\"grape\",\"banana\"]   \n",
       "\n",
       "                                 label_responses condition repetition  \\\n",
       "0         [\"working\",\"leisure\",\"peach\",\"cherry\"]    \"set1\"        0.0   \n",
       "1     [\"working\",\"efficiency\",\"leisure\",\"speed\"]    \"set1\"        0.0   \n",
       "2         [\"corn\",\"carrot\",\"speed\",\"efficiency\"]    \"set1\"        0.0   \n",
       "3             [\"corn\",\"carrot\",\"peach\",\"cherry\"]    \"set1\"        0.0   \n",
       "4       [\"comfort\",\"celery\",\"eggplant\",\"safety\"]    \"set1\"        0.0   \n",
       "...                                          ...       ...        ...   \n",
       "2747          [\"corn\",\"carrot\",\"peach\",\"cherry\"]    \"set1\"        7.0   \n",
       "2748      [\"working\",\"leisure\",\"peach\",\"cherry\"]    \"set1\"        7.0   \n",
       "2749      [\"eggplant\",\"celery\",\"grape\",\"banana\"]    \"set1\"        7.0   \n",
       "2750   [\"sleeping\",\"driving\",\"safety\",\"comfort\"]    \"set1\"        7.0   \n",
       "2751     [\"sleeping\",\"driving\",\"grape\",\"banana\"]    \"set1\"        7.0   \n",
       "\n",
       "     category pal_source accuracies total accuracy order_num            file  \n",
       "0        \"12\"    \"uw_71\"  [1,1,1,1]            4.0       4.0  pv8mjorbc3.csv  \n",
       "1        \"10\"    \"uw_71\"  [1,0,0,1]            2.0       4.0  pv8mjorbc3.csv  \n",
       "2        \"14\"    \"uw_71\"  [1,1,0,0]            2.0       4.0  pv8mjorbc3.csv  \n",
       "3         \"8\"    \"uw_71\"  [1,1,1,1]            4.0       4.0  pv8mjorbc3.csv  \n",
       "4        \"11\"    \"uw_71\"  [0,1,0,0]            1.0       4.0  pv8mjorbc3.csv  \n",
       "...       ...        ...        ...            ...       ...             ...  \n",
       "2747      \"8\"    \"uw_71\"  [1,1,1,1]            4.0       4.0  1xxsddld4c.csv  \n",
       "2748     \"12\"    \"uw_71\"  [1,1,1,1]            4.0       4.0  1xxsddld4c.csv  \n",
       "2749     \"13\"    \"uw_71\"  [1,1,1,1]            4.0       4.0  1xxsddld4c.csv  \n",
       "2750     \"15\"    \"uw_71\"  [1,1,1,1]            4.0       4.0  1xxsddld4c.csv  \n",
       "2751      \"9\"    \"uw_71\"  [1,1,1,1]            4.0       4.0  1xxsddld4c.csv  \n",
       "\n",
       "[2752 rows x 26 columns]"
      ]
     },
     "execution_count": 152,
     "metadata": {},
     "output_type": "execute_result"
    }
   ],
   "source": [
    "ai_trials"
   ]
  },
  {
   "cell_type": "code",
   "execution_count": 153,
   "metadata": {},
   "outputs": [],
   "source": [
    "subject_id=[]\n",
    "rt=[]\n",
    "trial_index=[]\n",
    "#label_option=[]\n",
    "bar_col=[]\n",
    "answer=[]\n",
    "response=[]\n",
    "condition=[]\n",
    "repetition=[]\n",
    "category=[]\n",
    "pal_source=[]\n",
    "accuracy=[]\n",
    "total_accuracy=[]\n",
    "order_num=[]\n",
    "x=0\n",
    "\n",
    "\n",
    "\n",
    "for index,row in ai_trials.iterrows():\n",
    "    \n",
    "    for i in range(4):\n",
    "        rt.append(row.rt)\n",
    "        trial_index.append(index)\n",
    "        #label_option.append( eval(row.label_options))\n",
    "        bar_col.append(eval(row.bar_cols)[i])\n",
    "        answer.append(eval(row.answer_key)[i])\n",
    "        response.append( eval(row.label_responses)[i])\n",
    "        condition.append(row.condition)\n",
    "        repetition.append(row.repetition)\n",
    "        category.append(row.category)\n",
    "        pal_source.append( row.pal_source)\n",
    "        accuracy.append( eval(row.accuracies)[i])\n",
    "        total_accuracy.append(row['total accuracy'])\n",
    "        order_num.append(row.order_num)\n",
    "        subject_id.append(row.subject_id)\n",
    "        \n"
   ]
  },
  {
   "cell_type": "code",
   "execution_count": 154,
   "metadata": {},
   "outputs": [],
   "source": [
    "cat_con_dict = {'fruits':['cherry','peach','grape','banana'],'vegetables':['corn','carrot','celery','eggplant'],\n",
    "               'activities':['working','sleeping','driving','leisure'],'features':['efficiency','speed','safety','comfort']}\n",
    "\n",
    "\n",
    "con_cat_dict = {i: k for k, v in cat_con_dict.items() for i in v}"
   ]
  },
  {
   "cell_type": "code",
   "execution_count": 155,
   "metadata": {},
   "outputs": [],
   "source": [
    "clean_df = pd.DataFrame({'subject_id':subject_id,'trial_index':trial_index,'condition':condition,'pal_source':pal_source,'order_num':order_num,\\\n",
    "               'category':category,'repetition':repetition,'answer':answer,\\\n",
    "               'bar_col':bar_col,'response':response,\\\n",
    "             'accuracy':accuracy,'total_accuracy':total_accuracy,'rt':rt})"
   ]
  },
  {
   "cell_type": "code",
   "execution_count": 156,
   "metadata": {},
   "outputs": [
    {
     "data": {
      "text/plain": [
       "array(['\"12\"', '\"10\"', '\"14\"', '\"8\"', '\"11\"', '\"13\"', '\"9\"', '\"15\"'],\n",
       "      dtype=object)"
      ]
     },
     "execution_count": 156,
     "metadata": {},
     "output_type": "execute_result"
    }
   ],
   "source": [
    "clean_df.category.unique()"
   ]
  },
  {
   "cell_type": "code",
   "execution_count": 157,
   "metadata": {},
   "outputs": [],
   "source": [
    "clean_df['concreteness_cond'] = clean_df.apply(lambda x: 'conc' if x.category in ['\"8\"','\"13\"'] \\\n",
    "                                                   else ('abs' if x.category in ['\"10\"','\"15\"']\\\n",
    "                                                              else'mix'), axis=1 )\n",
    "\n",
    "clean_df['context']= clean_df.apply(lambda x: 'within' if x.concreteness_cond in ['conc','abs'] else 'across', axis = 1)\n",
    "\n",
    "clean_df['concept_cat'] = clean_df.apply(lambda x:con_cat_dict[x.answer], axis = 1)\n",
    "\n",
    "clean_df['con_pal_conc'] = clean_df['condition'] +clean_df['category'].str.split('\"').str[1] + clean_df['answer']"
   ]
  },
  {
   "cell_type": "code",
   "execution_count": 158,
   "metadata": {},
   "outputs": [
    {
     "name": "stderr",
     "output_type": "stream",
     "text": [
      "/var/folders/62/ybvc3cw53hj40799y980__gr0000gn/T/ipykernel_29900/3455600128.py:2: DeprecationWarning: DataFrameGroupBy.apply operated on the grouping columns. This behavior is deprecated, and in a future version of pandas the grouping columns will be excluded from the operation. Either pass `include_groups=False` to exclude the groupings or explicitly select the grouping columns after groupby to silence this warning.\n",
      "  apply(lambda x: len(x)/8).reset_index(name= 'num_times_picked')\n"
     ]
    }
   ],
   "source": [
    "\n",
    "plot_df = clean_df.groupby(['bar_col','con_pal_conc','subject_id','category','condition','response' ]).\\\n",
    "apply(lambda x: len(x)/8).reset_index(name= 'num_times_picked')\n",
    "col_dict= {a:a for a in plot_df.bar_col.unique()}\n",
    "\n",
    "pair_labels = []\n",
    "for index, row in clean_df.iterrows():\n",
    "    if row.answer in ['grape','banana']:\n",
    "        pair_labels.append('fruit1')\n",
    "    elif row.answer in ['peach','cherry']:\n",
    "        pair_labels.append('fruit2')\n",
    "    elif row.answer in ['carrot','corn']:\n",
    "        pair_labels.append('veg1')  \n",
    "    elif row.answer in ['celery','eggplant']:\n",
    "        pair_labels.append('veg2')\n",
    "    elif row.answer in ['safety','comfort']:\n",
    "        pair_labels.append('feat2')\n",
    "    elif row.answer in ['speed','efficiency']:\n",
    "        pair_labels.append('feat1')\n",
    "    elif row.answer in ['working','leisure']:\n",
    "        pair_labels.append('act2')\n",
    "    elif row.answer in ['driving','sleeping']:\n",
    "        pair_labels.append('act1')\n",
    "\n",
    "clean_df['pair_labels'] = pair_labels"
   ]
  },
  {
   "cell_type": "code",
   "execution_count": 159,
   "metadata": {},
   "outputs": [],
   "source": [
    "cond_acc = clean_df.groupby(['condition','concreteness_cond'])[['total_accuracy','rt']].agg(['mean','sem']).reset_index()\n",
    "cond_acc.columns = ['_'.join(col).strip('_') for col in cond_acc.columns.values]\n"
   ]
  },
  {
   "cell_type": "code",
   "execution_count": 160,
   "metadata": {},
   "outputs": [
    {
     "name": "stderr",
     "output_type": "stream",
     "text": [
      "/var/folders/62/ybvc3cw53hj40799y980__gr0000gn/T/ipykernel_29900/2246468287.py:2: DeprecationWarning: DataFrameGroupBy.apply operated on the grouping columns. This behavior is deprecated, and in a future version of pandas the grouping columns will be excluded from the operation. Either pass `include_groups=False` to exclude the groupings or explicitly select the grouping columns after groupby to silence this warning.\n",
      "  apply(lambda x: len(x)/8).reset_index(name= 'num_times_picked')\n"
     ]
    }
   ],
   "source": [
    "plot_df = clean_df.groupby(['bar_col','con_pal_conc','subject_id','category','condition','response' ]).\\\n",
    "apply(lambda x: len(x)/8).reset_index(name= 'num_times_picked')\n",
    "col_dict= {a:a for a in plot_df.bar_col.unique()}"
   ]
  },
  {
   "cell_type": "code",
   "execution_count": 161,
   "metadata": {},
   "outputs": [],
   "source": [
    "plot_df_backup = plot_df.copy()\n",
    "rows_to_add = []\n",
    "\n",
    "for pal in plot_df_backup.category.unique():\n",
    "    dp = plot_df_backup[plot_df_backup.category == pal]\n",
    "    for cond in dp.condition.unique():\n",
    "        dpp = dp[dp.condition == cond]\n",
    "        concepts = dpp.response.unique()\n",
    "        for col in dpp.bar_col.unique():\n",
    "            dppp = dpp[dpp.bar_col == col]\n",
    "            for subj in dppp.subject_id.unique():\n",
    "                dp_ = dppp[dppp.subject_id == subj]\n",
    "                for conc in concepts:\n",
    "                    if conc not in dp_.response.unique():\n",
    "                        rows_to_add.append([col, 'NA', subj, pal, cond, conc, 0])\n",
    "\n",
    "# Create a DataFrame from the collected rows and concatenate it with the original DataFrame\n",
    "if rows_to_add:\n",
    "    new_rows_df = pd.DataFrame(rows_to_add, columns=plot_df.columns)\n",
    "    plot_df = pd.concat([plot_df, new_rows_df], ignore_index=True)"
   ]
  },
  {
   "cell_type": "code",
   "execution_count": 170,
   "metadata": {},
   "outputs": [],
   "source": [
    "import matplotlib.pyplot as plt\n",
    "import seaborn as sns\n",
    "# p1 = ['corn','carrot','grape','banana']\n",
    "# p2 =['sleeping','driving','peach','cherry']\n",
    "# p3 = ['working','leisure','safety','comfort']\n",
    "# p4 = ['eggplant','celery','efficiency','speed']\n",
    "# p5= ['working','leisure','grape','banana']\n",
    "# p6 = ['eggplant','celery','peach','cherry']\n",
    "# p7 = ['corn','carrot','safety','comfort']\n",
    "# p8 = ['sleeping','driving','efficiency','speed']\n",
    "p9 = ['corn','carrot','peach','cherry']\n",
    "p10 = ['sleeping','driving','grape','banana']\n",
    "p11 = ['working','leisure','efficiency','speed']\n",
    "p12 = ['eggplant','celery','safety','comfort']\n",
    "p13 = ['working','leisure','peach','cherry']\n",
    "p14 = ['eggplant','celery','grape','banana']\n",
    "p15 = ['corn','carrot','efficiency','speed',]\n",
    "p16 = ['sleeping','driving','safety','comfort']\n",
    "plist=[\n",
    "    # p1,p2,p3,p4,p5,p6,p7,p8]\n",
    "       p9,p10,p11,p12,p13,p14,p15,p16]\n",
    "\n",
    "true_assignments =  [ {\n",
    "        \"corn\": \"#d5b811\",\n",
    "        \"carrot\": \"#cc4f1b\",\n",
    "        \"peach\": \"#f1a78a\",\n",
    "        \"cherry\": \"#e81a4b\"\n",
    "    }, {\n",
    "        \"sleeping\": \"#000000\",\n",
    "        \"driving\": \"#ea1d1d\",\n",
    "        \"grape\": \"#72005e\",\n",
    "        \"banana\": \"#f7db7c\"\n",
    "    },{\n",
    "        \"working\": \"#632b14\",\n",
    "        \"leisure\": \"#cd26c7\",\n",
    "        \"efficiency\": \"#1c3d61\",\n",
    "        \"speed\": \"#ea1d1d\"\n",
    "    }, {\n",
    "        \"eggplant\": \"#600b84\",\n",
    "        \"celery\": \"#a3c55b\",\n",
    "        \"safety\": \"#d5b811\",\n",
    "        \"comfort\": \"#632b14\"\n",
    "    }, {\n",
    "        \"working\": \"#777777\",\n",
    "        \"leisure\": \"#4bcf8e\",\n",
    "        \"peach\": \"#f1a78a\",\n",
    "        \"cherry\": \"#ea1d1d\"\n",
    "    }, {\n",
    "        \"eggplant\": \"#512d5f\",\n",
    "        \"celery\": \"#96c58c\",\n",
    "        \"grape\": \"#cd26c7\",\n",
    "        \"banana\": \"#d5b811\"\n",
    "    }, {\n",
    "        \"corn\": \"#d5b811\",\n",
    "        \"carrot\": \"#ac6619\",\n",
    "        \"efficiency\": \"#73f5b0\",\n",
    "        \"speed\": \"#ea1d1d\"\n",
    "    }, {\n",
    "        \"sleeping\": \"#000000\",\n",
    "        \"driving\": \"#ea1d1d\",\n",
    "        \"safety\": \"#d0e942\",\n",
    "        \"comfort\": \"#632b14\"\n",
    "    }\n",
    "]\n"
   ]
  },
  {
   "cell_type": "code",
   "execution_count": 171,
   "metadata": {},
   "outputs": [
    {
     "data": {
      "text/html": [
       "<div>\n",
       "<style scoped>\n",
       "    .dataframe tbody tr th:only-of-type {\n",
       "        vertical-align: middle;\n",
       "    }\n",
       "\n",
       "    .dataframe tbody tr th {\n",
       "        vertical-align: top;\n",
       "    }\n",
       "\n",
       "    .dataframe thead th {\n",
       "        text-align: right;\n",
       "    }\n",
       "</style>\n",
       "<table border=\"1\" class=\"dataframe\">\n",
       "  <thead>\n",
       "    <tr style=\"text-align: right;\">\n",
       "      <th></th>\n",
       "      <th>bar_col</th>\n",
       "      <th>con_pal_conc</th>\n",
       "      <th>subject_id</th>\n",
       "      <th>category</th>\n",
       "      <th>condition</th>\n",
       "      <th>response</th>\n",
       "      <th>num_times_picked</th>\n",
       "    </tr>\n",
       "  </thead>\n",
       "  <tbody>\n",
       "    <tr>\n",
       "      <th>0</th>\n",
       "      <td>#000000</td>\n",
       "      <td>\"set1\"15sleeping</td>\n",
       "      <td>0tw0ow8ems</td>\n",
       "      <td>\"15\"</td>\n",
       "      <td>\"set1\"</td>\n",
       "      <td>sleeping</td>\n",
       "      <td>1.000</td>\n",
       "    </tr>\n",
       "    <tr>\n",
       "      <th>1</th>\n",
       "      <td>#000000</td>\n",
       "      <td>\"set1\"15sleeping</td>\n",
       "      <td>1vvjhct8y6</td>\n",
       "      <td>\"15\"</td>\n",
       "      <td>\"set1\"</td>\n",
       "      <td>driving</td>\n",
       "      <td>0.125</td>\n",
       "    </tr>\n",
       "    <tr>\n",
       "      <th>2</th>\n",
       "      <td>#000000</td>\n",
       "      <td>\"set1\"15sleeping</td>\n",
       "      <td>1vvjhct8y6</td>\n",
       "      <td>\"15\"</td>\n",
       "      <td>\"set1\"</td>\n",
       "      <td>safety</td>\n",
       "      <td>0.125</td>\n",
       "    </tr>\n",
       "    <tr>\n",
       "      <th>3</th>\n",
       "      <td>#000000</td>\n",
       "      <td>\"set1\"15sleeping</td>\n",
       "      <td>1vvjhct8y6</td>\n",
       "      <td>\"15\"</td>\n",
       "      <td>\"set1\"</td>\n",
       "      <td>sleeping</td>\n",
       "      <td>0.750</td>\n",
       "    </tr>\n",
       "    <tr>\n",
       "      <th>4</th>\n",
       "      <td>#000000</td>\n",
       "      <td>\"set1\"15sleeping</td>\n",
       "      <td>1xxsddld4c</td>\n",
       "      <td>\"15\"</td>\n",
       "      <td>\"set1\"</td>\n",
       "      <td>sleeping</td>\n",
       "      <td>1.000</td>\n",
       "    </tr>\n",
       "    <tr>\n",
       "      <th>...</th>\n",
       "      <td>...</td>\n",
       "      <td>...</td>\n",
       "      <td>...</td>\n",
       "      <td>...</td>\n",
       "      <td>...</td>\n",
       "      <td>...</td>\n",
       "      <td>...</td>\n",
       "    </tr>\n",
       "    <tr>\n",
       "      <th>5499</th>\n",
       "      <td>#f1a78a</td>\n",
       "      <td>NA</td>\n",
       "      <td>ysk7o5m4yd</td>\n",
       "      <td>\"8\"</td>\n",
       "      <td>\"set1\"</td>\n",
       "      <td>cherry</td>\n",
       "      <td>0.000</td>\n",
       "    </tr>\n",
       "    <tr>\n",
       "      <th>5500</th>\n",
       "      <td>#f1a78a</td>\n",
       "      <td>NA</td>\n",
       "      <td>ysk7o5m4yd</td>\n",
       "      <td>\"8\"</td>\n",
       "      <td>\"set1\"</td>\n",
       "      <td>corn</td>\n",
       "      <td>0.000</td>\n",
       "    </tr>\n",
       "    <tr>\n",
       "      <th>5501</th>\n",
       "      <td>#f1a78a</td>\n",
       "      <td>NA</td>\n",
       "      <td>yt8o923pd4</td>\n",
       "      <td>\"8\"</td>\n",
       "      <td>\"set1\"</td>\n",
       "      <td>carrot</td>\n",
       "      <td>0.000</td>\n",
       "    </tr>\n",
       "    <tr>\n",
       "      <th>5502</th>\n",
       "      <td>#f1a78a</td>\n",
       "      <td>NA</td>\n",
       "      <td>yt8o923pd4</td>\n",
       "      <td>\"8\"</td>\n",
       "      <td>\"set1\"</td>\n",
       "      <td>cherry</td>\n",
       "      <td>0.000</td>\n",
       "    </tr>\n",
       "    <tr>\n",
       "      <th>5503</th>\n",
       "      <td>#f1a78a</td>\n",
       "      <td>NA</td>\n",
       "      <td>yt8o923pd4</td>\n",
       "      <td>\"8\"</td>\n",
       "      <td>\"set1\"</td>\n",
       "      <td>corn</td>\n",
       "      <td>0.000</td>\n",
       "    </tr>\n",
       "  </tbody>\n",
       "</table>\n",
       "<p>5504 rows × 7 columns</p>\n",
       "</div>"
      ],
      "text/plain": [
       "      bar_col      con_pal_conc  subject_id category condition  response  \\\n",
       "0     #000000  \"set1\"15sleeping  0tw0ow8ems     \"15\"    \"set1\"  sleeping   \n",
       "1     #000000  \"set1\"15sleeping  1vvjhct8y6     \"15\"    \"set1\"   driving   \n",
       "2     #000000  \"set1\"15sleeping  1vvjhct8y6     \"15\"    \"set1\"    safety   \n",
       "3     #000000  \"set1\"15sleeping  1vvjhct8y6     \"15\"    \"set1\"  sleeping   \n",
       "4     #000000  \"set1\"15sleeping  1xxsddld4c     \"15\"    \"set1\"  sleeping   \n",
       "...       ...               ...         ...      ...       ...       ...   \n",
       "5499  #f1a78a                NA  ysk7o5m4yd      \"8\"    \"set1\"    cherry   \n",
       "5500  #f1a78a                NA  ysk7o5m4yd      \"8\"    \"set1\"      corn   \n",
       "5501  #f1a78a                NA  yt8o923pd4      \"8\"    \"set1\"    carrot   \n",
       "5502  #f1a78a                NA  yt8o923pd4      \"8\"    \"set1\"    cherry   \n",
       "5503  #f1a78a                NA  yt8o923pd4      \"8\"    \"set1\"      corn   \n",
       "\n",
       "      num_times_picked  \n",
       "0                1.000  \n",
       "1                0.125  \n",
       "2                0.125  \n",
       "3                0.750  \n",
       "4                1.000  \n",
       "...                ...  \n",
       "5499             0.000  \n",
       "5500             0.000  \n",
       "5501             0.000  \n",
       "5502             0.000  \n",
       "5503             0.000  \n",
       "\n",
       "[5504 rows x 7 columns]"
      ]
     },
     "execution_count": 171,
     "metadata": {},
     "output_type": "execute_result"
    }
   ],
   "source": [
    "plot_df"
   ]
  },
  {
   "cell_type": "code",
   "execution_count": 172,
   "metadata": {},
   "outputs": [
    {
     "data": {
      "text/plain": [
       "{'sleeping': '#000000',\n",
       " 'driving': '#ea1d1d',\n",
       " 'safety': '#d0e942',\n",
       " 'comfort': '#632b14'}"
      ]
     },
     "execution_count": 172,
     "metadata": {},
     "output_type": "execute_result"
    }
   ],
   "source": [
    "true_assignments[j-8]"
   ]
  },
  {
   "cell_type": "code",
   "execution_count": 173,
   "metadata": {},
   "outputs": [
    {
     "data": {
      "image/png": "[encoded data removed]",
      "text/plain": [
       "<Figure size 300x2500 with 8 Axes>"
      ]
     },
     "metadata": {},
     "output_type": "display_data"
    }
   ],
   "source": [
    "fig = plt.figure(figsize=(3,25))\n",
    "plt.rcParams['pdf.fonttype'] = 42\n",
    "sp=1\n",
    "\n",
    "for j in range(8,16):\n",
    "    \n",
    "\n",
    "    pdf = plot_df[(plot_df.category ==f'\"{j}\"')]\n",
    "    \n",
    "    hue_ord=[]\n",
    "    this_p = plist[j-8]\n",
    "    for p in this_p:\n",
    "        hue_ord.append(true_assignments[j-8][p])\n",
    "    \n",
    "\n",
    "    #sns.set_theme(style=\"white\",rc = {'patch.linewidth': 0.5, 'patch.edgecolor':'black',})\n",
    "\n",
    "    g = sns.barplot(ax = fig.add_subplot(16,1,sp),\n",
    "        data=pdf,color = 'black',\n",
    "        x=\"response\", y=\"num_times_picked\", hue=\"bar_col\", palette =col_dict,\n",
    "        errorbar='se', order = plist[j-8], hue_order= hue_ord\n",
    "    )\n",
    "    plt.axhline( y=0.25, ls='--', c='black')\n",
    "    plt.xlabel('')\n",
    "    ax = plt.gca()\n",
    "    ax.get_legend().remove()\n",
    "    plt.ylabel('')\n",
    "    plt.ylim(0,1)\n",
    "    plt.yticks([0,0.5,1])\n",
    "    plt.tick_params(labelsize=10)\n",
    "    #plt.show()\n",
    "\n",
    "    \n",
    "    sp+=1\n",
    "plt.tight_layout()\n",
    "\n",
    "#plt.savefig(f'../human_data_faceted.pdf',format='pdf')\n",
    "    \n"
   ]
  },
  {
   "cell_type": "code",
   "execution_count": 104,
   "metadata": {},
   "outputs": [],
   "source": []
  },
  {
   "cell_type": "code",
   "execution_count": null,
   "metadata": {},
   "outputs": [],
   "source": []
  }
 ],
 "metadata": {
  "kernelspec": {
   "display_name": "color_projects",
   "language": "python",
   "name": "python3"
  },
  "language_info": {
   "codemirror_mode": {
    "name": "ipython",
    "version": 3
   },
   "file_extension": ".py",
   "mimetype": "text/x-python",
   "name": "python",
   "nbconvert_exporter": "python",
   "pygments_lexer": "ipython3",
   "version": "3.10.13"
  }
 },
 "nbformat": 4,
 "nbformat_minor": 2
}
